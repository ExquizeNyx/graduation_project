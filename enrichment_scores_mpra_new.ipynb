{
 "cells": [
  {
   "cell_type": "code",
   "execution_count": 1,
   "metadata": {},
   "outputs": [],
   "source": [
    "import pandas as pd\n",
    "import scipy.stats as stats"
   ]
  },
  {
   "cell_type": "markdown",
   "metadata": {},
   "source": [
    "LCL B cell MPRA: regulatory regions - QTLs"
   ]
  },
  {
   "cell_type": "code",
   "execution_count": null,
   "metadata": {},
   "outputs": [],
   "source": [
    "non_sig_cd4_qtl_non_sig_lcl = pd.read_csv('data/bed_files/bedtools/non_sig_cd4_qtl_non_sig_lcl.txt',sep='\\t', header=None)"
   ]
  },
  {
   "cell_type": "code",
   "execution_count": null,
   "metadata": {},
   "outputs": [],
   "source": [
    "non_sig_cd4_qtl_sig_lcl = pd.read_csv(\"data/bed_files/bedtools/non_sig_cd4_qtl_sig_lcl.txt\", sep='\\t', header=None)\n",
    "non_sig_cd4_qtl_non_sig_lcl = pd.read_csv(\"data/bed_files/bedtools/non_sig_cd4_qtl_non_sig_lcl.txt\", sep='\\t', header=None)\n",
    "sig_cd4_qtl_non_sig_lcl = pd.read_csv(\"data/bed_files/bedtools/sig_cd4_qtl_non_sig_lcl.txt\", sep='\\t', header=None)\n",
    "sig_cd4_qtl_sig_lcl = pd.read_csv('data/bed_files/bedtools/sig_cd4qtl_in_sig_lcl.txt.', sep='\\t', header=None)"
   ]
  },
  {
   "cell_type": "code",
   "execution_count": 5,
   "metadata": {},
   "outputs": [],
   "source": [
    "non_sig_b_qtl_sig_lcl = pd.read_csv('data/bed_files/bedtools/non_sig_b_qtl_sig_lcl.txt', sep='\\t', header=None)\n",
    "non_sig_b_qtl_non_sig_lcl = pd.read_csv('data/bed_files/bedtools/non_sig_b_qtl_non_sig_lcl.txt', sep='\\t', header=None)\n",
    "sig_b_qtl_non_sig_lcl = pd.read_csv('data/bed_files/bedtools/sig_b_qtl_non_sig_lcl.txt', sep='\\t', header=None)\n",
    "sig_b_qtl_sig_lcl = pd.read_csv('data/bed_files/bedtools/sig_b_qtl_sig_lcl_unique.txt', sep='\\t', header=None)"
   ]
  },
  {
   "cell_type": "markdown",
   "metadata": {},
   "source": [
    "CD4+ T cel MPRA: enhancer - QTLs"
   ]
  },
  {
   "cell_type": "code",
   "execution_count": null,
   "metadata": {},
   "outputs": [],
   "source": [
    "non_sig_b_qtl_sig_enh = pd.read_csv(\"data/bed_files/plasmid/enhancer/non_sig_b_qtl_sig_enh_plasmid.txt\", sep='\\t', header=None)\n",
    "non_sig_b_qtl_non_sig_enh = pd.read_csv(\"data/bed_files/plasmid/enhancer/non_sig_b_qtl_non_sig_enh_plasmid.txt\", sep='\\t', header=None)\n",
    "sig_b_qtl_sig_enh = pd.read_csv(\"data/bed_files/plasmid/enhancer/sig_b_qtl_sig_enh_plasmid.txt\", sep='\\t', header=None)\n",
    "sig_b_qtl_non_sig_enh = pd.read_csv(\"data/bed_files/plasmid/enhancer/sig_b_qtl_non_sig_enh_plasmid.txt\", sep='\\t', header=None)\n"
   ]
  },
  {
   "cell_type": "code",
   "execution_count": 7,
   "metadata": {},
   "outputs": [],
   "source": [
    "non_sig_cd4_qtl_sig_enh = pd.read_csv(\"data/bed_files/plasmid/enhancer/non_sig_cd4_qtl_sig_enh_plasmid.txt\", sep='\\t', header=None)\n",
    "non_sig_cd4_qtl_non_sig_enh = pd.read_csv(\"data/bed_files/plasmid/enhancer/non_sig_cd4_qtl_non_sig_enh_plasmid.txt\", sep='\\t', header=None)\n",
    "sig_cd4_qtl_sig_enh = pd.read_csv(\"data/bed_files/plasmid/enhancer/sig_cd4_qtl_sig_enh_plasmid.txt\", sep='\\t', header=None)\n",
    "sig_cd4_qtl_non_sig_enh = pd.read_csv(\"data/bed_files/plasmid/enhancer/sig_cd4_qtl_non_sig_enh_plasmid.txt\", sep='\\t', header=None)\n"
   ]
  },
  {
   "cell_type": "markdown",
   "metadata": {},
   "source": [
    "CD4+ T cell MPRA: NRE - QTLs"
   ]
  },
  {
   "cell_type": "code",
   "execution_count": 8,
   "metadata": {},
   "outputs": [],
   "source": [
    "non_sig_b_qtl_sig_nre = pd.read_csv(\"data/bed_files/plasmid/nre/non_sig_b_qtl_sig_nre_plasmid.txt\", sep='\\t', header=None)\n",
    "non_sig_b_qtl_non_sig_nre = pd.read_csv(\"data/bed_files/plasmid/nre/non_sig_b_qtl_non_sig_nre_plasmid.txt\", sep='\\t', header=None)\n",
    "sig_b_qtl_sig_nre = pd.read_csv(\"data/bed_files/plasmid/nre/sig_b_qtl_sig_nre_plasmid.txt\", sep='\\t', header=None)\n",
    "sig_b_qtl_non_sig_nre = pd.read_csv(\"data/bed_files/plasmid/nre/sig_b_qtl_non_sig_nre_plasmid.txt\", sep='\\t', header=None)\n"
   ]
  },
  {
   "cell_type": "code",
   "execution_count": 9,
   "metadata": {},
   "outputs": [],
   "source": [
    "non_sig_cd4_qtl_sig_nre = pd.read_csv(\"data/bed_files/plasmid/nre/non_sig_cd4_qtl_sig_nre_plasmid.txt\", sep='\\t', header=None)\n",
    "non_sig_cd4_qtl_non_sig_nre = pd.read_csv(\"data/bed_files/plasmid/nre/non_sig_cd4_qtl_non_sig_nre_plasmid.txt\", sep='\\t', header=None)\n",
    "sig_cd4_qtl_sig_nre = pd.read_csv(\"data/bed_files/plasmid/nre/sig_cd4_qtl_sig_nre_plasmid.txt\", sep='\\t', header=None)\n",
    "sig_cd4_qtl_non_sig_nre = pd.read_csv(\"data/bed_files/plasmid/nre/sig_cd4_qtl_non_sig_nre_plasmid.txt\", sep='\\t', header=None)\n"
   ]
  },
  {
   "cell_type": "markdown",
   "metadata": {},
   "source": [
    "***\n",
    "### Enrichment MPRA\n",
    "Use file column with snps [7] or unqiue_ids [8] valuecounts() per corresponding category in the enrichment analysis <br>\n",
    "Example:<br>\n",
    "data =[[sig-eqtl_sig-region, nsig-eqtl_sig-region], [sig-eqtl_nsig-region], [nsig-eqtl_nsig-region]]"
   ]
  },
  {
   "cell_type": "markdown",
   "metadata": {},
   "source": [
    "#### Calucaltions\n",
    "The non-significant groups were determined by subtracting the significant eQTL counts from the total eQTL counts identified in each region in the overlapping analysis, therefore ensuring that only genuinely non-significant eQTLs were categorized accordingly. Specifically, the calculation was as follows: <br><br>\n",
    "**non significant eQTLs=total eQTLs-signifcant eQTLs** <br> <br>\n",
    "\n",
    "To account for removing overlapping effects the calculation  non-significant group changes by using the formula: <br><br>\n",
    "**new non significant eQTLs=total eQTLs-(old significant eQTLs-new significant eQTLs)**\n"
   ]
  },
  {
   "cell_type": "markdown",
   "metadata": {},
   "source": [
    "***\n",
    "#### Snp differential calculation <br>\n",
    "we calculated the significant overlapping effects by subtracting the number of unique B cell-specific cis-eQTLs at the SNP level from the total significant B cell eQTLs found in the MPRA. <br> <br>\n",
    "**sig.common effects = sig.  total eQTLS - cell type unique sig.eQTLS** <br><br><br>\n",
    "For the non-significant overlapping effects, we used the total number of found non-significant eQTLs minus the significant B cell eQTLs, and then subtracted the significant overlapping effects: <br><br>\n",
    "**non sig.common effects=(total non sig.  eQTLs-sig.total eQTLs) - sig.common effects**\n",
    "\n"
   ]
  },
  {
   "cell_type": "code",
   "execution_count": 10,
   "metadata": {},
   "outputs": [
    {
     "name": "stdout",
     "output_type": "stream",
     "text": [
      "1.6769205682330484 3.1098314187228015e-21\n"
     ]
    }
   ],
   "source": [
    "data = [[656, 1178],[2655,7995]]\n",
    "odd_ratio, p_value = stats.fisher_exact(data)\n",
    "print(odd_ratio, p_value)"
   ]
  },
  {
   "cell_type": "code",
   "execution_count": 11,
   "metadata": {},
   "outputs": [
    {
     "name": "stdout",
     "output_type": "stream",
     "text": [
      "1.557655375880208 0.04835715196319314\n"
     ]
    }
   ],
   "source": [
    "data = [[28, 1178],[122,7995]]\n",
    "odd_ratio, p_value = stats.fisher_exact(data)\n",
    "print(odd_ratio, p_value)"
   ]
  },
  {
   "cell_type": "code",
   "execution_count": 12,
   "metadata": {},
   "outputs": [
    {
     "name": "stdout",
     "output_type": "stream",
     "text": [
      "1.0862923720388826 0.17106075214300348\n"
     ]
    }
   ],
   "source": [
    "data = [[499, 865],[3198,6022]]\n",
    "odd_ratio, p_value = stats.fisher_exact(data)\n",
    "print(odd_ratio, p_value)"
   ]
  },
  {
   "cell_type": "code",
   "execution_count": 13,
   "metadata": {},
   "outputs": [
    {
     "name": "stdout",
     "output_type": "stream",
     "text": [
      "0.6744444444444444 0.33962043321538926\n"
     ]
    }
   ],
   "source": [
    "data = [[8, 480],[90,3642]]\n",
    "odd_ratio, p_value = stats.fisher_exact(data)\n",
    "print(odd_ratio, p_value)"
   ]
  },
  {
   "cell_type": "code",
   "execution_count": 14,
   "metadata": {},
   "outputs": [
    {
     "name": "stdout",
     "output_type": "stream",
     "text": [
      "1.7632785888551987 0.0037683876433364403\n"
     ]
    }
   ],
   "source": [
    "data = [[31, (1101-31)],[1199,(74172-1199)]]\n",
    "odd_ratio, p_value = stats.fisher_exact(data)\n",
    "print(odd_ratio, p_value)"
   ]
  },
  {
   "cell_type": "code",
   "execution_count": 15,
   "metadata": {},
   "outputs": [
    {
     "name": "stdout",
     "output_type": "stream",
     "text": [
      "0.36825237345140277 2.2281894817431166e-57\n"
     ]
    }
   ],
   "source": [
    "data = [[(436-8), ((1996 - 436) -428)],[(2165 - 90),((7738-(2165 - 90))- 3642)]]\n",
    "odd_ratio, p_value = stats.fisher_exact(data)\n",
    "print(odd_ratio, p_value)"
   ]
  },
  {
   "cell_type": "code",
   "execution_count": 16,
   "metadata": {},
   "outputs": [
    {
     "data": {
      "text/plain": [
       "0.506591796875"
      ]
     },
     "execution_count": 16,
     "metadata": {},
     "output_type": "execute_result"
    }
   ],
   "source": [
    "2075 /((7738-(2165 -90) -3642) + 2075)"
   ]
  },
  {
   "cell_type": "code",
   "execution_count": 17,
   "metadata": {},
   "outputs": [
    {
     "data": {
      "text/plain": [
       "4096"
      ]
     },
     "execution_count": 17,
     "metadata": {},
     "output_type": "execute_result"
    }
   ],
   "source": [
    "(7738- 3642)"
   ]
  },
  {
   "cell_type": "code",
   "execution_count": 18,
   "metadata": {},
   "outputs": [
    {
     "data": {
      "text/plain": [
       "0.2743589743589744"
      ]
     },
     "execution_count": 18,
     "metadata": {},
     "output_type": "execute_result"
    }
   ],
   "source": [
    "428/1560"
   ]
  },
  {
   "cell_type": "code",
   "execution_count": 19,
   "metadata": {},
   "outputs": [
    {
     "name": "stdout",
     "output_type": "stream",
     "text": [
      "2.1659812370996536 8.110308381359972e-27\n"
     ]
    }
   ],
   "source": [
    "data = [[299, (1198-299)],[(11744),(88226-11744)]]\n",
    "odd_ratio, p_value = stats.fisher_exact(data)\n",
    "print(odd_ratio, p_value)"
   ]
  },
  {
   "cell_type": "code",
   "execution_count": 20,
   "metadata": {},
   "outputs": [
    {
     "name": "stdout",
     "output_type": "stream",
     "text": [
      "2.9552928348909657 0.0007865112292060107\n"
     ]
    }
   ],
   "source": [
    "data = [[13, (1083-13)],[300,(73273-300)]]\n",
    "odd_ratio, p_value = stats.fisher_exact(data)\n",
    "print(odd_ratio, p_value)"
   ]
  },
  {
   "cell_type": "code",
   "execution_count": 21,
   "metadata": {},
   "outputs": [
    {
     "name": "stdout",
     "output_type": "stream",
     "text": [
      "2.2138934448237504 5.689989668391031e-27\n"
     ]
    }
   ],
   "source": [
    "data = [[283, (1182-283)],[10875,(87357-10875)]]\n",
    "odd_ratio, p_value = stats.fisher_exact(data)\n",
    "print(odd_ratio, p_value)"
   ]
  },
  {
   "cell_type": "code",
   "execution_count": 22,
   "metadata": {},
   "outputs": [
    {
     "name": "stdout",
     "output_type": "stream",
     "text": [
      "1.4686975825579556 0.07023490816390243\n"
     ]
    }
   ],
   "source": [
    "data = [[26, (1102-26)],[1199,(74076-1199)]]\n",
    "odd_ratio, p_value = stats.fisher_exact(data)\n",
    "print(odd_ratio, p_value)"
   ]
  },
  {
   "cell_type": "code",
   "execution_count": 23,
   "metadata": {},
   "outputs": [
    {
     "name": "stdout",
     "output_type": "stream",
     "text": [
      "2.145692853246045 4.9833075495660515e-27\n"
     ]
    }
   ],
   "source": [
    "data = [[309, (1249-309)],[11700,(88070-11700)]]\n",
    "odd_ratio, p_value = stats.fisher_exact(data)\n",
    "print(odd_ratio, p_value)"
   ]
  },
  {
   "cell_type": "code",
   "execution_count": 24,
   "metadata": {},
   "outputs": [
    {
     "name": "stdout",
     "output_type": "stream",
     "text": [
      "0.4397479843576498 0.33808157856674326\n"
     ]
    }
   ],
   "source": [
    "data = [[2, (1078-2)],[308,(73176-308)]]\n",
    "odd_ratio, p_value = stats.fisher_exact(data)\n",
    "print(odd_ratio, p_value)"
   ]
  },
  {
   "cell_type": "code",
   "execution_count": 25,
   "metadata": {},
   "outputs": [
    {
     "name": "stdout",
     "output_type": "stream",
     "text": [
      "0.410429426141964 2.1265589726739924e-43\n"
     ]
    }
   ],
   "source": [
    "data = [[285, (1239-285)],[10841,(88070-73176)]]\n",
    "odd_ratio, p_value = stats.fisher_exact(data)\n",
    "print(odd_ratio, p_value)"
   ]
  },
  {
   "cell_type": "markdown",
   "metadata": {},
   "source": [
    "***\n",
    "#### Extra:\n",
    "Percentage overlap mpra (extra)"
   ]
  },
  {
   "cell_type": "code",
   "execution_count": 28,
   "metadata": {},
   "outputs": [],
   "source": [
    "total_b= []\n",
    "overlap_b = []\n",
    "percentage_list= []\n",
    "def percentage_eqtl_mpra_overlap(df, list_total, list_overlap, percentage_list, col=3):\n",
    "    overlap = df[col].value_counts().gt(1).sum()\n",
    "    list_overlap.append(overlap)\n",
    "    total = len(df[col].value_counts())\n",
    "    list_total.append(total)\n",
    "    percentage = round((overlap/total) * 100, 2)\n",
    "    percentage_list.append(percentage)\n",
    "    return percentage"
   ]
  },
  {
   "cell_type": "code",
   "execution_count": 29,
   "metadata": {},
   "outputs": [
    {
     "name": "stdout",
     "output_type": "stream",
     "text": [
      "27.71 \n",
      " 26.3 \n",
      " 58.82 \n",
      " 50.54 \n",
      "\n"
     ]
    }
   ],
   "source": [
    "print(percentage_eqtl_mpra_overlap(non_sig_b_qtl_sig_lcl,total_b,overlap_b,percentage_list),'\\n',\n",
    "      percentage_eqtl_mpra_overlap(non_sig_b_qtl_non_sig_lcl,total_b,overlap_b,percentage_list), '\\n',\n",
    "      percentage_eqtl_mpra_overlap(sig_b_qtl_sig_lcl,total_b,overlap_b,percentage_list), '\\n',\n",
    "      percentage_eqtl_mpra_overlap(sig_b_qtl_non_sig_lcl,total_b,overlap_b,percentage_list), '\\n')"
   ]
  },
  {
   "cell_type": "code",
   "execution_count": 30,
   "metadata": {},
   "outputs": [
    {
     "data": {
      "text/html": [
       "<div>\n",
       "<style scoped>\n",
       "    .dataframe tbody tr th:only-of-type {\n",
       "        vertical-align: middle;\n",
       "    }\n",
       "\n",
       "    .dataframe tbody tr th {\n",
       "        vertical-align: top;\n",
       "    }\n",
       "\n",
       "    .dataframe thead th {\n",
       "        text-align: right;\n",
       "    }\n",
       "</style>\n",
       "<table border=\"1\" class=\"dataframe\">\n",
       "  <thead>\n",
       "    <tr style=\"text-align: right;\">\n",
       "      <th></th>\n",
       "      <th>0</th>\n",
       "      <th>1</th>\n",
       "      <th>2</th>\n",
       "      <th>3</th>\n",
       "      <th>4</th>\n",
       "      <th>5</th>\n",
       "      <th>6</th>\n",
       "      <th>7</th>\n",
       "    </tr>\n",
       "  </thead>\n",
       "  <tbody>\n",
       "    <tr>\n",
       "      <th>817</th>\n",
       "      <td>chr22</td>\n",
       "      <td>49917124</td>\n",
       "      <td>49917274</td>\n",
       "      <td>rs9616206</td>\n",
       "      <td>chr22</td>\n",
       "      <td>49917181</td>\n",
       "      <td>49917182</td>\n",
       "      <td>chr22_49917181</td>\n",
       "    </tr>\n",
       "    <tr>\n",
       "      <th>818</th>\n",
       "      <td>chr22</td>\n",
       "      <td>49917124</td>\n",
       "      <td>49917274</td>\n",
       "      <td>rs9616206</td>\n",
       "      <td>chr22</td>\n",
       "      <td>49917199</td>\n",
       "      <td>49917200</td>\n",
       "      <td>chr22_49917199</td>\n",
       "    </tr>\n",
       "    <tr>\n",
       "      <th>819</th>\n",
       "      <td>chr22</td>\n",
       "      <td>49917124</td>\n",
       "      <td>49917274</td>\n",
       "      <td>rs9616206</td>\n",
       "      <td>chr22</td>\n",
       "      <td>49917232</td>\n",
       "      <td>49917233</td>\n",
       "      <td>chr22_49917232</td>\n",
       "    </tr>\n",
       "    <tr>\n",
       "      <th>820</th>\n",
       "      <td>chr22</td>\n",
       "      <td>49917124</td>\n",
       "      <td>49917274</td>\n",
       "      <td>rs9616206</td>\n",
       "      <td>chr22</td>\n",
       "      <td>49917234</td>\n",
       "      <td>49917235</td>\n",
       "      <td>chr22_49917234</td>\n",
       "    </tr>\n",
       "  </tbody>\n",
       "</table>\n",
       "</div>"
      ],
      "text/plain": [
       "         0         1         2          3      4         5         6  \\\n",
       "817  chr22  49917124  49917274  rs9616206  chr22  49917181  49917182   \n",
       "818  chr22  49917124  49917274  rs9616206  chr22  49917199  49917200   \n",
       "819  chr22  49917124  49917274  rs9616206  chr22  49917232  49917233   \n",
       "820  chr22  49917124  49917274  rs9616206  chr22  49917234  49917235   \n",
       "\n",
       "                  7  \n",
       "817  chr22_49917181  \n",
       "818  chr22_49917199  \n",
       "819  chr22_49917232  \n",
       "820  chr22_49917234  "
      ]
     },
     "execution_count": 30,
     "metadata": {},
     "output_type": "execute_result"
    }
   ],
   "source": [
    "sig_b_qtl_sig_lcl[sig_b_qtl_sig_lcl[3] == 'rs9616206']"
   ]
  },
  {
   "cell_type": "code",
   "execution_count": 32,
   "metadata": {},
   "outputs": [
    {
     "data": {
      "text/plain": [
       "33.2590799031477"
      ]
     },
     "execution_count": 32,
     "metadata": {},
     "output_type": "execute_result"
    }
   ],
   "source": [
    "(sum(overlap_b) / sum(total_b)) * 100"
   ]
  },
  {
   "cell_type": "code",
   "execution_count": 34,
   "metadata": {},
   "outputs": [
    {
     "name": "stdout",
     "output_type": "stream",
     "text": [
      "28.83 \n",
      " 24.98 \n",
      " 47.06 \n",
      " 38.77 \n",
      "\n"
     ]
    }
   ],
   "source": [
    "total_cd4 = []\n",
    "overlap_cd4 = []\n",
    "percentage_list_cd4 = []\n",
    "print(percentage_eqtl_mpra_overlap(non_sig_cd4_qtl_sig_lcl,total_cd4,overlap_cd4, percentage_list_cd4),'\\n',\n",
    "      percentage_eqtl_mpra_overlap(non_sig_cd4_qtl_non_sig_lcl,total_cd4,overlap_cd4,percentage_list_cd4), '\\n',\n",
    "      percentage_eqtl_mpra_overlap(sig_cd4_qtl_sig_lcl,total_cd4,overlap_cd4, percentage_list_cd4), '\\n',\n",
    "      percentage_eqtl_mpra_overlap(sig_cd4_qtl_non_sig_lcl,total_cd4,overlap_cd4,percentage_list_cd4), '\\n')"
   ]
  },
  {
   "cell_type": "code",
   "execution_count": 35,
   "metadata": {},
   "outputs": [
    {
     "name": "stdout",
     "output_type": "stream",
     "text": [
      "[256, 1748, 270, 1160] [924, 6647, 459, 2295] [192, 1282, 384, 1854] [666, 5133, 816, 4782]\n"
     ]
    }
   ],
   "source": [
    "print(overlap_b, total_b, overlap_cd4, total_cd4)"
   ]
  },
  {
   "cell_type": "code",
   "execution_count": 36,
   "metadata": {},
   "outputs": [],
   "source": [
    "d={'b_lcl(%)': percentage_list, 'cd4_lcl(%)': percentage_list_cd4}\n",
    "lcl =pd.DataFrame(data=d, index=['nsig_sig', 'nsig_nsig', 'sig_sig', 'sig_nsg'])"
   ]
  },
  {
   "cell_type": "code",
   "execution_count": 37,
   "metadata": {},
   "outputs": [
    {
     "name": "stdout",
     "output_type": "stream",
     "text": [
      "in range\n",
      "in range\n",
      "in range\n",
      "in range\n"
     ]
    }
   ],
   "source": [
    "for i in percentage_list:\n",
    "    le = i * 0.95\n",
    "    gt = i *1.05\n",
    "    for i in percentage_list_cd4:\n",
    "        if not i > le and not i < gt:\n",
    "            print(i)\n",
    "        else:\n",
    "            print('in range')\n",
    "            break\n",
    "            #print(str(i) + ' > ' + str(le), str(i) + ' < ' +str(gt))\n"
   ]
  },
  {
   "cell_type": "code",
   "execution_count": 38,
   "metadata": {},
   "outputs": [
    {
     "name": "stdout",
     "output_type": "stream",
     "text": [
      "30.2715 27.388499999999997\n"
     ]
    }
   ],
   "source": [
    "print(28.83 * 1.05, 28.83* 0.95)"
   ]
  },
  {
   "cell_type": "code",
   "execution_count": 39,
   "metadata": {},
   "outputs": [
    {
     "data": {
      "text/plain": [
       "32.56997455470738"
      ]
     },
     "execution_count": 39,
     "metadata": {},
     "output_type": "execute_result"
    }
   ],
   "source": [
    "(sum(overlap_cd4) / sum(total_cd4)) * 100"
   ]
  },
  {
   "cell_type": "code",
   "execution_count": 40,
   "metadata": {},
   "outputs": [
    {
     "name": "stdout",
     "output_type": "stream",
     "text": [
      "5.76 \n",
      " 5.53 \n",
      " 12.68 \n",
      " 8.8 \n",
      "\n"
     ]
    }
   ],
   "source": [
    "total_b_enh= []\n",
    "overlap_b_enh = []\n",
    "percentage_list_enh= []\n",
    "print(percentage_eqtl_mpra_overlap(non_sig_b_qtl_sig_enh,total_b_enh,overlap_b_enh,percentage_list_enh,4),'\\n',\n",
    "      percentage_eqtl_mpra_overlap(non_sig_b_qtl_non_sig_enh,total_b_enh,overlap_b_enh,percentage_list_enh,4), '\\n',\n",
    "      percentage_eqtl_mpra_overlap(sig_b_qtl_sig_enh,total_b_enh,overlap_b_enh,percentage_list_enh,4), '\\n',\n",
    "      percentage_eqtl_mpra_overlap(sig_b_qtl_non_sig_enh,total_b_enh,overlap_b_enh,percentage_list_enh,4), '\\n')"
   ]
  },
  {
   "cell_type": "code",
   "execution_count": 41,
   "metadata": {},
   "outputs": [
    {
     "name": "stdout",
     "output_type": "stream",
     "text": [
      "5.35 \n",
      " 5.59 \n",
      " 5.08 \n",
      " 5.35 \n",
      "\n"
     ]
    }
   ],
   "source": [
    "total_cd4_enh= []\n",
    "overlap_cd4_enh = []\n",
    "percentage_list_cd4_enh= []\n",
    "print(percentage_eqtl_mpra_overlap(non_sig_cd4_qtl_sig_enh,total_cd4_enh,overlap_cd4_enh,percentage_list_cd4_enh,4),'\\n',\n",
    "      percentage_eqtl_mpra_overlap(non_sig_cd4_qtl_non_sig_enh,total_cd4_enh,overlap_cd4_enh,percentage_list_cd4_enh,4), '\\n',\n",
    "      percentage_eqtl_mpra_overlap(sig_cd4_qtl_sig_enh,total_cd4_enh,overlap_cd4_enh,percentage_list_cd4_enh,4), '\\n',\n",
    "      percentage_eqtl_mpra_overlap(sig_cd4_qtl_non_sig_enh,total_cd4_enh,overlap_cd4_enh,percentage_list_cd4_enh,4), '\\n')"
   ]
  },
  {
   "cell_type": "code",
   "execution_count": 42,
   "metadata": {},
   "outputs": [
    {
     "data": {
      "text/plain": [
       "5975431    6\n",
       "5975430    5\n",
       "5976048    4\n",
       "5964889    4\n",
       "3079162    3\n",
       "          ..\n",
       "2194950    1\n",
       "2194951    1\n",
       "2194952    1\n",
       "2194953    1\n",
       "7172716    1\n",
       "Name: 4, Length: 11103, dtype: int64"
      ]
     },
     "execution_count": 42,
     "metadata": {},
     "output_type": "execute_result"
    }
   ],
   "source": [
    "non_sig_cd4_qtl_sig_enh[4].value_counts()"
   ]
  },
  {
   "cell_type": "code",
   "execution_count": 43,
   "metadata": {},
   "outputs": [
    {
     "data": {
      "text/html": [
       "<div>\n",
       "<style scoped>\n",
       "    .dataframe tbody tr th:only-of-type {\n",
       "        vertical-align: middle;\n",
       "    }\n",
       "\n",
       "    .dataframe tbody tr th {\n",
       "        vertical-align: top;\n",
       "    }\n",
       "\n",
       "    .dataframe thead th {\n",
       "        text-align: right;\n",
       "    }\n",
       "</style>\n",
       "<table border=\"1\" class=\"dataframe\">\n",
       "  <thead>\n",
       "    <tr style=\"text-align: right;\">\n",
       "      <th></th>\n",
       "      <th>0</th>\n",
       "      <th>1</th>\n",
       "      <th>2</th>\n",
       "      <th>3</th>\n",
       "      <th>4</th>\n",
       "      <th>5</th>\n",
       "      <th>6</th>\n",
       "      <th>7</th>\n",
       "      <th>8</th>\n",
       "    </tr>\n",
       "  </thead>\n",
       "  <tbody>\n",
       "    <tr>\n",
       "      <th>9896</th>\n",
       "      <td>chr6</td>\n",
       "      <td>31197225</td>\n",
       "      <td>31197264</td>\n",
       "      <td>0.6283</td>\n",
       "      <td>5975431</td>\n",
       "      <td>chr6</td>\n",
       "      <td>31197228</td>\n",
       "      <td>31197229</td>\n",
       "      <td>6:31197228:A:ATTTTT</td>\n",
       "    </tr>\n",
       "    <tr>\n",
       "      <th>9897</th>\n",
       "      <td>chr6</td>\n",
       "      <td>31197225</td>\n",
       "      <td>31197264</td>\n",
       "      <td>0.6283</td>\n",
       "      <td>5975431</td>\n",
       "      <td>chr6</td>\n",
       "      <td>31197235</td>\n",
       "      <td>31197236</td>\n",
       "      <td>6:31197235:G:T</td>\n",
       "    </tr>\n",
       "    <tr>\n",
       "      <th>9898</th>\n",
       "      <td>chr6</td>\n",
       "      <td>31197225</td>\n",
       "      <td>31197264</td>\n",
       "      <td>0.6283</td>\n",
       "      <td>5975431</td>\n",
       "      <td>chr6</td>\n",
       "      <td>31197237</td>\n",
       "      <td>31197238</td>\n",
       "      <td>6:31197237:G:T</td>\n",
       "    </tr>\n",
       "    <tr>\n",
       "      <th>9899</th>\n",
       "      <td>chr6</td>\n",
       "      <td>31197225</td>\n",
       "      <td>31197264</td>\n",
       "      <td>0.6283</td>\n",
       "      <td>5975431</td>\n",
       "      <td>chr6</td>\n",
       "      <td>31197239</td>\n",
       "      <td>31197240</td>\n",
       "      <td>6:31197239:G:T</td>\n",
       "    </tr>\n",
       "    <tr>\n",
       "      <th>9900</th>\n",
       "      <td>chr6</td>\n",
       "      <td>31197225</td>\n",
       "      <td>31197264</td>\n",
       "      <td>0.6283</td>\n",
       "      <td>5975431</td>\n",
       "      <td>chr6</td>\n",
       "      <td>31197241</td>\n",
       "      <td>31197242</td>\n",
       "      <td>6:31197241:G:T</td>\n",
       "    </tr>\n",
       "    <tr>\n",
       "      <th>9901</th>\n",
       "      <td>chr6</td>\n",
       "      <td>31197225</td>\n",
       "      <td>31197264</td>\n",
       "      <td>0.6283</td>\n",
       "      <td>5975431</td>\n",
       "      <td>chr6</td>\n",
       "      <td>31197254</td>\n",
       "      <td>31197255</td>\n",
       "      <td>6:31197254:T:TCTCA</td>\n",
       "    </tr>\n",
       "  </tbody>\n",
       "</table>\n",
       "</div>"
      ],
      "text/plain": [
       "         0         1         2       3        4     5         6         7  \\\n",
       "9896  chr6  31197225  31197264  0.6283  5975431  chr6  31197228  31197229   \n",
       "9897  chr6  31197225  31197264  0.6283  5975431  chr6  31197235  31197236   \n",
       "9898  chr6  31197225  31197264  0.6283  5975431  chr6  31197237  31197238   \n",
       "9899  chr6  31197225  31197264  0.6283  5975431  chr6  31197239  31197240   \n",
       "9900  chr6  31197225  31197264  0.6283  5975431  chr6  31197241  31197242   \n",
       "9901  chr6  31197225  31197264  0.6283  5975431  chr6  31197254  31197255   \n",
       "\n",
       "                        8  \n",
       "9896  6:31197228:A:ATTTTT  \n",
       "9897       6:31197235:G:T  \n",
       "9898       6:31197237:G:T  \n",
       "9899       6:31197239:G:T  \n",
       "9900       6:31197241:G:T  \n",
       "9901   6:31197254:T:TCTCA  "
      ]
     },
     "execution_count": 43,
     "metadata": {},
     "output_type": "execute_result"
    }
   ],
   "source": [
    "non_sig_cd4_qtl_sig_enh[non_sig_cd4_qtl_sig_enh[4] == 5975431]"
   ]
  },
  {
   "cell_type": "code",
   "execution_count": 44,
   "metadata": {},
   "outputs": [
    {
     "data": {
      "text/plain": [
       "900"
      ]
     },
     "execution_count": 44,
     "metadata": {},
     "output_type": "execute_result"
    }
   ],
   "source": [
    "len(set(non_sig_cd4_qtl_sig_enh[8].value_counts().index) - set(sig_cd4_qtl_sig_enh[8].value_counts().index))"
   ]
  },
  {
   "cell_type": "code",
   "execution_count": 45,
   "metadata": {},
   "outputs": [
    {
     "data": {
      "text/plain": [
       "1201"
      ]
     },
     "execution_count": 45,
     "metadata": {},
     "output_type": "execute_result"
    }
   ],
   "source": [
    "900 + 301"
   ]
  },
  {
   "cell_type": "code",
   "execution_count": 46,
   "metadata": {},
   "outputs": [],
   "source": [
    "d={'b_enh(%)': percentage_list_enh, 'cd4_enh(%)': percentage_list_cd4_enh}\n",
    "enh = pd.DataFrame(data=d, index=['nsig_sig', 'nsig_nsig', 'sig_sig', 'sig_nsg'])"
   ]
  },
  {
   "cell_type": "code",
   "execution_count": 47,
   "metadata": {},
   "outputs": [
    {
     "name": "stdout",
     "output_type": "stream",
     "text": [
      "5.38 \n",
      " 5.56 \n",
      " 12.3 \n",
      " 8.76 \n",
      "\n"
     ]
    }
   ],
   "source": [
    "total_b_nre= []\n",
    "overlap_b_nre = []\n",
    "percentage_list_b_nre= []\n",
    "print(percentage_eqtl_mpra_overlap(non_sig_b_qtl_sig_nre,total_b_nre,overlap_b_nre,percentage_list_b_nre,4),'\\n',\n",
    "      percentage_eqtl_mpra_overlap(non_sig_b_qtl_non_sig_nre,total_b_nre,overlap_b_nre,percentage_list_b_nre,4), '\\n',\n",
    "      percentage_eqtl_mpra_overlap(sig_b_qtl_sig_nre,total_b_nre,overlap_b_nre,percentage_list_b_nre,4), '\\n',\n",
    "      percentage_eqtl_mpra_overlap(sig_b_qtl_non_sig_nre,total_b_nre,overlap_b_nre,percentage_list_b_nre,4), '\\n')\n"
   ]
  },
  {
   "cell_type": "code",
   "execution_count": 48,
   "metadata": {},
   "outputs": [
    {
     "name": "stdout",
     "output_type": "stream",
     "text": [
      "5.69 \n",
      " 5.56 \n",
      " 4.01 \n",
      " 5.46 \n",
      "\n"
     ]
    }
   ],
   "source": [
    "total_cd4_nre= []\n",
    "overlap_cd4_nre = []\n",
    "percentage_list_cd4_nre= []\n",
    "print(percentage_eqtl_mpra_overlap(non_sig_cd4_qtl_sig_nre,total_cd4_nre,overlap_cd4_nre,percentage_list_cd4_nre,4),'\\n',\n",
    "      percentage_eqtl_mpra_overlap(non_sig_cd4_qtl_non_sig_nre,total_cd4_nre,overlap_cd4_nre,percentage_list_cd4_nre,4), '\\n',\n",
    "      percentage_eqtl_mpra_overlap(sig_cd4_qtl_sig_nre,total_cd4_nre,overlap_cd4_nre,percentage_list_cd4_nre,4), '\\n',\n",
    "      percentage_eqtl_mpra_overlap(sig_cd4_qtl_non_sig_nre,total_cd4_nre,overlap_cd4_nre,percentage_list_cd4_nre,4), '\\n')\n"
   ]
  },
  {
   "cell_type": "code",
   "execution_count": 49,
   "metadata": {},
   "outputs": [],
   "source": [
    "d={'b_nre(%)': percentage_list_b_nre, 'cd4_nre(%)': percentage_list_cd4_nre}\n",
    "nre =pd.DataFrame(data=d, index=['nsig_sig', 'nsig_nsig', 'sig_sig', 'sig_nsg'])"
   ]
  },
  {
   "cell_type": "code",
   "execution_count": 50,
   "metadata": {},
   "outputs": [
    {
     "name": "stdout",
     "output_type": "stream",
     "text": [
      "           b_lcl(%)  cd4_lcl(%)\n",
      "nsig_sig      27.71       28.83\n",
      "nsig_nsig     26.30       24.98\n",
      "sig_sig       58.82       47.06\n",
      "sig_nsg       50.54       38.77 \n",
      "\n",
      "            b_enh(%)  cd4_enh(%)\n",
      "nsig_sig       5.76        5.35\n",
      "nsig_nsig      5.53        5.59\n",
      "sig_sig       12.68        5.08\n",
      "sig_nsg        8.80        5.35 \n",
      "\n",
      "            b_nre(%)  cd4_nre(%)\n",
      "nsig_sig       5.38        5.69\n",
      "nsig_nsig      5.56        5.56\n",
      "sig_sig       12.30        4.01\n",
      "sig_nsg        8.76        5.46\n"
     ]
    }
   ],
   "source": [
    "print(lcl,'\\n\\n' , enh, '\\n\\n', nre)"
   ]
  },
  {
   "cell_type": "code",
   "execution_count": 51,
   "metadata": {},
   "outputs": [
    {
     "name": "stdout",
     "output_type": "stream",
     "text": [
      "[256, 1748, 270, 1160] [924, 6647, 459, 2295]\n"
     ]
    }
   ],
   "source": [
    "print(overlap_b, total_b)"
   ]
  },
  {
   "cell_type": "code",
   "execution_count": 52,
   "metadata": {},
   "outputs": [
    {
     "name": "stdout",
     "output_type": "stream",
     "text": [
      "2.1231617647058822 5.825690503048721e-13\n"
     ]
    }
   ],
   "source": [
    "data = [[270, 459],[256,924]]\n",
    "odd_ratio, p_value = stats.fisher_exact(data)\n",
    "print(odd_ratio, p_value)"
   ]
  },
  {
   "cell_type": "code",
   "execution_count": 53,
   "metadata": {},
   "outputs": [],
   "source": [
    "def overlapping_qtls(df, col_mpra=3, col_qtl=7):\n",
    "    mpra_multiple_qtls = list(df[col_mpra].value_counts().gt(1).index)\n",
    "    df_new = df[df[col_mpra].isin(mpra_multiple_qtls)]\n",
    "    qtl_pos = list(df_new[col_qtl])\n",
    "    return qtl_pos"
   ]
  },
  {
   "cell_type": "code",
   "execution_count": 54,
   "metadata": {},
   "outputs": [],
   "source": [
    "sig_sig_bqtl = overlapping_qtls(sig_b_qtl_sig_lcl)\n",
    "sig_nsig_bqtl = overlapping_qtls(sig_b_qtl_non_sig_lcl)\n",
    "nsig_sig_bqtl = overlapping_qtls(non_sig_b_qtl_sig_lcl,col_qtl=8)\n",
    "nsig_nsig_bqtl = overlapping_qtls(non_sig_b_qtl_non_sig_lcl,col_qtl=8)"
   ]
  },
  {
   "cell_type": "code",
   "execution_count": 55,
   "metadata": {},
   "outputs": [
    {
     "data": {
      "text/html": [
       "<div>\n",
       "<style scoped>\n",
       "    .dataframe tbody tr th:only-of-type {\n",
       "        vertical-align: middle;\n",
       "    }\n",
       "\n",
       "    .dataframe tbody tr th {\n",
       "        vertical-align: top;\n",
       "    }\n",
       "\n",
       "    .dataframe thead th {\n",
       "        text-align: right;\n",
       "    }\n",
       "</style>\n",
       "<table border=\"1\" class=\"dataframe\">\n",
       "  <thead>\n",
       "    <tr style=\"text-align: right;\">\n",
       "      <th></th>\n",
       "      <th>0</th>\n",
       "      <th>1</th>\n",
       "      <th>2</th>\n",
       "      <th>3</th>\n",
       "      <th>4</th>\n",
       "      <th>5</th>\n",
       "      <th>6</th>\n",
       "      <th>7</th>\n",
       "      <th>8</th>\n",
       "    </tr>\n",
       "  </thead>\n",
       "  <tbody>\n",
       "    <tr>\n",
       "      <th>0</th>\n",
       "      <td>chr1</td>\n",
       "      <td>10248825</td>\n",
       "      <td>10248975</td>\n",
       "      <td>rs4846204</td>\n",
       "      <td>chr1</td>\n",
       "      <td>10248900</td>\n",
       "      <td>10248901</td>\n",
       "      <td>1:10248900:C:T</td>\n",
       "      <td>chr1_10248900</td>\n",
       "    </tr>\n",
       "    <tr>\n",
       "      <th>1</th>\n",
       "      <td>chr1</td>\n",
       "      <td>10265477</td>\n",
       "      <td>10265627</td>\n",
       "      <td>rs12139158</td>\n",
       "      <td>chr1</td>\n",
       "      <td>10265552</td>\n",
       "      <td>10265553</td>\n",
       "      <td>1:10265552:A:G</td>\n",
       "      <td>chr1_10265552</td>\n",
       "    </tr>\n",
       "    <tr>\n",
       "      <th>2</th>\n",
       "      <td>chr1</td>\n",
       "      <td>10333787</td>\n",
       "      <td>10333937</td>\n",
       "      <td>rs11121542</td>\n",
       "      <td>chr1</td>\n",
       "      <td>10333862</td>\n",
       "      <td>10333863</td>\n",
       "      <td>1:10333862:G:A</td>\n",
       "      <td>chr1_10333862</td>\n",
       "    </tr>\n",
       "    <tr>\n",
       "      <th>3</th>\n",
       "      <td>chr1</td>\n",
       "      <td>10342708</td>\n",
       "      <td>10342858</td>\n",
       "      <td>rs11804162</td>\n",
       "      <td>chr1</td>\n",
       "      <td>10342727</td>\n",
       "      <td>10342728</td>\n",
       "      <td>1:10342727:A:G</td>\n",
       "      <td>chr1_10342727</td>\n",
       "    </tr>\n",
       "    <tr>\n",
       "      <th>4</th>\n",
       "      <td>chr1</td>\n",
       "      <td>10342708</td>\n",
       "      <td>10342858</td>\n",
       "      <td>rs11804162</td>\n",
       "      <td>chr1</td>\n",
       "      <td>10342784</td>\n",
       "      <td>10342785</td>\n",
       "      <td>1:10342784:A:G</td>\n",
       "      <td>chr1_10342784</td>\n",
       "    </tr>\n",
       "    <tr>\n",
       "      <th>...</th>\n",
       "      <td>...</td>\n",
       "      <td>...</td>\n",
       "      <td>...</td>\n",
       "      <td>...</td>\n",
       "      <td>...</td>\n",
       "      <td>...</td>\n",
       "      <td>...</td>\n",
       "      <td>...</td>\n",
       "      <td>...</td>\n",
       "    </tr>\n",
       "    <tr>\n",
       "      <th>6789</th>\n",
       "      <td>chr9</td>\n",
       "      <td>97395007</td>\n",
       "      <td>97395157</td>\n",
       "      <td>chr9:100157364:D</td>\n",
       "      <td>chr9</td>\n",
       "      <td>97395098</td>\n",
       "      <td>97395099</td>\n",
       "      <td>9:97395098:C:A</td>\n",
       "      <td>chr9_97395098</td>\n",
       "    </tr>\n",
       "    <tr>\n",
       "      <th>6790</th>\n",
       "      <td>chr9</td>\n",
       "      <td>97512208</td>\n",
       "      <td>97512358</td>\n",
       "      <td>rs10739429</td>\n",
       "      <td>chr9</td>\n",
       "      <td>97512283</td>\n",
       "      <td>97512284</td>\n",
       "      <td>9:97512283:T:A</td>\n",
       "      <td>chr9_97512283</td>\n",
       "    </tr>\n",
       "    <tr>\n",
       "      <th>6791</th>\n",
       "      <td>chr9</td>\n",
       "      <td>97513067</td>\n",
       "      <td>97513217</td>\n",
       "      <td>rs1052270</td>\n",
       "      <td>chr9</td>\n",
       "      <td>97513142</td>\n",
       "      <td>97513143</td>\n",
       "      <td>9:97513142:C:T</td>\n",
       "      <td>chr9_97513142</td>\n",
       "    </tr>\n",
       "    <tr>\n",
       "      <th>6792</th>\n",
       "      <td>chr9</td>\n",
       "      <td>97513953</td>\n",
       "      <td>97514103</td>\n",
       "      <td>rs10759744</td>\n",
       "      <td>chr9</td>\n",
       "      <td>97514028</td>\n",
       "      <td>97514029</td>\n",
       "      <td>9:97514028:A:G</td>\n",
       "      <td>chr9_97514028</td>\n",
       "    </tr>\n",
       "    <tr>\n",
       "      <th>6793</th>\n",
       "      <td>chr9</td>\n",
       "      <td>99312382</td>\n",
       "      <td>99312532</td>\n",
       "      <td>rs57453563</td>\n",
       "      <td>chr9</td>\n",
       "      <td>99312457</td>\n",
       "      <td>99312458</td>\n",
       "      <td>9:99312457:C:T</td>\n",
       "      <td>chr9_99312457</td>\n",
       "    </tr>\n",
       "  </tbody>\n",
       "</table>\n",
       "<p>6794 rows × 9 columns</p>\n",
       "</div>"
      ],
      "text/plain": [
       "         0         1         2                 3     4         5         6  \\\n",
       "0     chr1  10248825  10248975         rs4846204  chr1  10248900  10248901   \n",
       "1     chr1  10265477  10265627        rs12139158  chr1  10265552  10265553   \n",
       "2     chr1  10333787  10333937        rs11121542  chr1  10333862  10333863   \n",
       "3     chr1  10342708  10342858        rs11804162  chr1  10342727  10342728   \n",
       "4     chr1  10342708  10342858        rs11804162  chr1  10342784  10342785   \n",
       "...    ...       ...       ...               ...   ...       ...       ...   \n",
       "6789  chr9  97395007  97395157  chr9:100157364:D  chr9  97395098  97395099   \n",
       "6790  chr9  97512208  97512358        rs10739429  chr9  97512283  97512284   \n",
       "6791  chr9  97513067  97513217         rs1052270  chr9  97513142  97513143   \n",
       "6792  chr9  97513953  97514103        rs10759744  chr9  97514028  97514029   \n",
       "6793  chr9  99312382  99312532        rs57453563  chr9  99312457  99312458   \n",
       "\n",
       "                   7              8  \n",
       "0     1:10248900:C:T  chr1_10248900  \n",
       "1     1:10265552:A:G  chr1_10265552  \n",
       "2     1:10333862:G:A  chr1_10333862  \n",
       "3     1:10342727:A:G  chr1_10342727  \n",
       "4     1:10342784:A:G  chr1_10342784  \n",
       "...              ...            ...  \n",
       "6789  9:97395098:C:A  chr9_97395098  \n",
       "6790  9:97512283:T:A  chr9_97512283  \n",
       "6791  9:97513142:C:T  chr9_97513142  \n",
       "6792  9:97514028:A:G  chr9_97514028  \n",
       "6793  9:99312457:C:T  chr9_99312457  \n",
       "\n",
       "[6794 rows x 9 columns]"
      ]
     },
     "execution_count": 55,
     "metadata": {},
     "output_type": "execute_result"
    }
   ],
   "source": [
    "non_sig_cd4_qtl_non_sig_lcl"
   ]
  },
  {
   "cell_type": "code",
   "execution_count": 56,
   "metadata": {},
   "outputs": [],
   "source": [
    "sig_sig_cd4qtl = overlapping_qtls(sig_cd4_qtl_sig_lcl)\n",
    "sig_nsig_cd4qtl = overlapping_qtls(sig_cd4_qtl_non_sig_lcl)\n",
    "nsig_sig_cd4qtl = overlapping_qtls(non_sig_cd4_qtl_sig_lcl,col_qtl=8)\n",
    "nsig_nsig_cd4qtl = overlapping_qtls(non_sig_cd4_qtl_non_sig_lcl,col_qtl=8)"
   ]
  },
  {
   "cell_type": "code",
   "execution_count": null,
   "metadata": {},
   "outputs": [],
   "source": [
    "sig_bqtl = pd.read_csv('data/qtl/sig_b_qtl.tsv', sep='\\t')\n",
    "bqtl = pd.read_csv('data/qtl/b_qtl.tsv', sep='\\t')\n",
    "sig_cd4qtl = pd.read_csv('data/qtl/sig_cd4_qtl.tsv', sep='\\t')\n",
    "cd4qtl = pd.read_csv('data/qtl/cd4_qtl.tsv', sep='\\t')"
   ]
  },
  {
   "cell_type": "code",
   "execution_count": 62,
   "metadata": {},
   "outputs": [
    {
     "data": {
      "text/html": [
       "<div>\n",
       "<style scoped>\n",
       "    .dataframe tbody tr th:only-of-type {\n",
       "        vertical-align: middle;\n",
       "    }\n",
       "\n",
       "    .dataframe tbody tr th {\n",
       "        vertical-align: top;\n",
       "    }\n",
       "\n",
       "    .dataframe thead th {\n",
       "        text-align: right;\n",
       "    }\n",
       "</style>\n",
       "<table border=\"1\" class=\"dataframe\">\n",
       "  <thead>\n",
       "    <tr style=\"text-align: right;\">\n",
       "      <th></th>\n",
       "      <th>feature_id</th>\n",
       "      <th>snp_id</th>\n",
       "      <th>p_value</th>\n",
       "      <th>beta</th>\n",
       "      <th>beta_se</th>\n",
       "      <th>empirical_feature_p_value</th>\n",
       "      <th>feature_chromosome</th>\n",
       "      <th>feature_start</th>\n",
       "      <th>feature_end</th>\n",
       "      <th>ENSG</th>\n",
       "      <th>...</th>\n",
       "      <th>snp_position</th>\n",
       "      <th>assessed_allele</th>\n",
       "      <th>call_rate</th>\n",
       "      <th>maf</th>\n",
       "      <th>hwe_p</th>\n",
       "      <th>QTL</th>\n",
       "      <th>z_score</th>\n",
       "      <th>weight</th>\n",
       "      <th>z_score_org</th>\n",
       "      <th>chr_snp_pos</th>\n",
       "    </tr>\n",
       "  </thead>\n",
       "  <tbody>\n",
       "    <tr>\n",
       "      <th>0</th>\n",
       "      <td>RPS26</td>\n",
       "      <td>12:56007301:G:A</td>\n",
       "      <td>3.382176e-34</td>\n",
       "      <td>1.443169</td>\n",
       "      <td>0.249831</td>\n",
       "      <td>2.282969e-31</td>\n",
       "      <td>12</td>\n",
       "      <td>56041351</td>\n",
       "      <td>56044697</td>\n",
       "      <td>ENSG00000197728</td>\n",
       "      <td>...</td>\n",
       "      <td>56007301</td>\n",
       "      <td>G</td>\n",
       "      <td>1</td>\n",
       "      <td>0.447368</td>\n",
       "      <td>0.509556</td>\n",
       "      <td>12:56007301:G:A-RPS26</td>\n",
       "      <td>1.219312e+01</td>\n",
       "      <td>211365.1</td>\n",
       "      <td>12.408954</td>\n",
       "      <td>chr12_56007301</td>\n",
       "    </tr>\n",
       "    <tr>\n",
       "      <th>1</th>\n",
       "      <td>SMDT1</td>\n",
       "      <td>22:42123461:A:AT</td>\n",
       "      <td>4.472720e-20</td>\n",
       "      <td>1.006116</td>\n",
       "      <td>0.252152</td>\n",
       "      <td>6.857645e-19</td>\n",
       "      <td>22</td>\n",
       "      <td>42079691</td>\n",
       "      <td>42084284</td>\n",
       "      <td>ENSG00000183172</td>\n",
       "      <td>...</td>\n",
       "      <td>42123461</td>\n",
       "      <td>A</td>\n",
       "      <td>1</td>\n",
       "      <td>0.315789</td>\n",
       "      <td>1.000000</td>\n",
       "      <td>22:42123461:A:AT-SMDT1</td>\n",
       "      <td>9.176031e+00</td>\n",
       "      <td>211365.1</td>\n",
       "      <td>9.403753</td>\n",
       "      <td>chr22_42123461</td>\n",
       "    </tr>\n",
       "    <tr>\n",
       "      <th>2</th>\n",
       "      <td>SMDT1</td>\n",
       "      <td>22:42119191:GAGAT:G</td>\n",
       "      <td>4.763233e-20</td>\n",
       "      <td>1.078521</td>\n",
       "      <td>0.252800</td>\n",
       "      <td>6.857645e-19</td>\n",
       "      <td>22</td>\n",
       "      <td>42079691</td>\n",
       "      <td>42084284</td>\n",
       "      <td>ENSG00000183172</td>\n",
       "      <td>...</td>\n",
       "      <td>42119191</td>\n",
       "      <td>GAGAT</td>\n",
       "      <td>1</td>\n",
       "      <td>0.342105</td>\n",
       "      <td>1.000000</td>\n",
       "      <td>22:42119191:GAGAT:G-SMDT1</td>\n",
       "      <td>9.169250e+00</td>\n",
       "      <td>211365.1</td>\n",
       "      <td>9.320564</td>\n",
       "      <td>chr22_42119191</td>\n",
       "    </tr>\n",
       "    <tr>\n",
       "      <th>3</th>\n",
       "      <td>SMDT1</td>\n",
       "      <td>22:42092156:C:A</td>\n",
       "      <td>4.933741e-20</td>\n",
       "      <td>1.073046</td>\n",
       "      <td>0.253754</td>\n",
       "      <td>6.857645e-19</td>\n",
       "      <td>22</td>\n",
       "      <td>42079691</td>\n",
       "      <td>42084284</td>\n",
       "      <td>ENSG00000183172</td>\n",
       "      <td>...</td>\n",
       "      <td>42092156</td>\n",
       "      <td>C</td>\n",
       "      <td>1</td>\n",
       "      <td>0.342105</td>\n",
       "      <td>1.000000</td>\n",
       "      <td>22:42092156:C:A-SMDT1</td>\n",
       "      <td>9.165457e+00</td>\n",
       "      <td>211365.1</td>\n",
       "      <td>9.320889</td>\n",
       "      <td>chr22_42092156</td>\n",
       "    </tr>\n",
       "    <tr>\n",
       "      <th>4</th>\n",
       "      <td>SMDT1</td>\n",
       "      <td>22:42094636:CAAA:C</td>\n",
       "      <td>5.097736e-20</td>\n",
       "      <td>1.063314</td>\n",
       "      <td>0.251781</td>\n",
       "      <td>6.857645e-19</td>\n",
       "      <td>22</td>\n",
       "      <td>42079691</td>\n",
       "      <td>42084284</td>\n",
       "      <td>ENSG00000183172</td>\n",
       "      <td>...</td>\n",
       "      <td>42094636</td>\n",
       "      <td>CAAA</td>\n",
       "      <td>1</td>\n",
       "      <td>0.342105</td>\n",
       "      <td>1.000000</td>\n",
       "      <td>22:42094636:CAAA:C-SMDT1</td>\n",
       "      <td>9.161930e+00</td>\n",
       "      <td>211365.1</td>\n",
       "      <td>9.318367</td>\n",
       "      <td>chr22_42094636</td>\n",
       "    </tr>\n",
       "    <tr>\n",
       "      <th>...</th>\n",
       "      <td>...</td>\n",
       "      <td>...</td>\n",
       "      <td>...</td>\n",
       "      <td>...</td>\n",
       "      <td>...</td>\n",
       "      <td>...</td>\n",
       "      <td>...</td>\n",
       "      <td>...</td>\n",
       "      <td>...</td>\n",
       "      <td>...</td>\n",
       "      <td>...</td>\n",
       "      <td>...</td>\n",
       "      <td>...</td>\n",
       "      <td>...</td>\n",
       "      <td>...</td>\n",
       "      <td>...</td>\n",
       "      <td>...</td>\n",
       "      <td>...</td>\n",
       "      <td>...</td>\n",
       "      <td>...</td>\n",
       "      <td>...</td>\n",
       "    </tr>\n",
       "    <tr>\n",
       "      <th>3466240</th>\n",
       "      <td>CEP350</td>\n",
       "      <td>1:179674899:T:G</td>\n",
       "      <td>9.999275e-01</td>\n",
       "      <td>0.050972</td>\n",
       "      <td>0.117085</td>\n",
       "      <td>9.999998e-01</td>\n",
       "      <td>1</td>\n",
       "      <td>179954773</td>\n",
       "      <td>180114875</td>\n",
       "      <td>ENSG00000135837</td>\n",
       "      <td>...</td>\n",
       "      <td>179674899</td>\n",
       "      <td>T</td>\n",
       "      <td>1</td>\n",
       "      <td>0.368421</td>\n",
       "      <td>1.000000</td>\n",
       "      <td>1:179674899:T:G-CEP350</td>\n",
       "      <td>-9.090477e-05</td>\n",
       "      <td>211365.1</td>\n",
       "      <td>0.082259</td>\n",
       "      <td>chr1_179674899</td>\n",
       "    </tr>\n",
       "    <tr>\n",
       "      <th>3466241</th>\n",
       "      <td>CEP350</td>\n",
       "      <td>1:179677732:C:T</td>\n",
       "      <td>9.999939e-01</td>\n",
       "      <td>0.051011</td>\n",
       "      <td>0.117116</td>\n",
       "      <td>9.999998e-01</td>\n",
       "      <td>1</td>\n",
       "      <td>179954773</td>\n",
       "      <td>180114875</td>\n",
       "      <td>ENSG00000135837</td>\n",
       "      <td>...</td>\n",
       "      <td>179677732</td>\n",
       "      <td>C</td>\n",
       "      <td>1</td>\n",
       "      <td>0.368421</td>\n",
       "      <td>1.000000</td>\n",
       "      <td>1:179677732:C:T-CEP350</td>\n",
       "      <td>-7.689936e-06</td>\n",
       "      <td>211365.1</td>\n",
       "      <td>0.082429</td>\n",
       "      <td>chr1_179677732</td>\n",
       "    </tr>\n",
       "    <tr>\n",
       "      <th>3466242</th>\n",
       "      <td>CEP350</td>\n",
       "      <td>1:179676283:G:T</td>\n",
       "      <td>9.999939e-01</td>\n",
       "      <td>0.051011</td>\n",
       "      <td>0.117116</td>\n",
       "      <td>9.999998e-01</td>\n",
       "      <td>1</td>\n",
       "      <td>179954773</td>\n",
       "      <td>180114875</td>\n",
       "      <td>ENSG00000135837</td>\n",
       "      <td>...</td>\n",
       "      <td>179676283</td>\n",
       "      <td>G</td>\n",
       "      <td>1</td>\n",
       "      <td>0.368421</td>\n",
       "      <td>1.000000</td>\n",
       "      <td>1:179676283:G:T-CEP350</td>\n",
       "      <td>-7.689936e-06</td>\n",
       "      <td>211365.1</td>\n",
       "      <td>0.082429</td>\n",
       "      <td>chr1_179676283</td>\n",
       "    </tr>\n",
       "    <tr>\n",
       "      <th>3466243</th>\n",
       "      <td>CEP350</td>\n",
       "      <td>1:179676284:G:A</td>\n",
       "      <td>9.999939e-01</td>\n",
       "      <td>0.051011</td>\n",
       "      <td>0.117116</td>\n",
       "      <td>9.999998e-01</td>\n",
       "      <td>1</td>\n",
       "      <td>179954773</td>\n",
       "      <td>180114875</td>\n",
       "      <td>ENSG00000135837</td>\n",
       "      <td>...</td>\n",
       "      <td>179676284</td>\n",
       "      <td>G</td>\n",
       "      <td>1</td>\n",
       "      <td>0.368421</td>\n",
       "      <td>1.000000</td>\n",
       "      <td>1:179676284:G:A-CEP350</td>\n",
       "      <td>-7.689936e-06</td>\n",
       "      <td>211365.1</td>\n",
       "      <td>0.082429</td>\n",
       "      <td>chr1_179676284</td>\n",
       "    </tr>\n",
       "    <tr>\n",
       "      <th>3466244</th>\n",
       "      <td>CEP350</td>\n",
       "      <td>1:179678199:G:C</td>\n",
       "      <td>9.999998e-01</td>\n",
       "      <td>0.051025</td>\n",
       "      <td>0.117146</td>\n",
       "      <td>9.999998e-01</td>\n",
       "      <td>1</td>\n",
       "      <td>179954773</td>\n",
       "      <td>180114875</td>\n",
       "      <td>ENSG00000135837</td>\n",
       "      <td>...</td>\n",
       "      <td>179678199</td>\n",
       "      <td>G</td>\n",
       "      <td>1</td>\n",
       "      <td>0.368421</td>\n",
       "      <td>1.000000</td>\n",
       "      <td>1:179678199:G:C-CEP350</td>\n",
       "      <td>2.307555e-07</td>\n",
       "      <td>211365.1</td>\n",
       "      <td>0.082435</td>\n",
       "      <td>chr1_179678199</td>\n",
       "    </tr>\n",
       "  </tbody>\n",
       "</table>\n",
       "<p>3466245 rows × 26 columns</p>\n",
       "</div>"
      ],
      "text/plain": [
       "        feature_id               snp_id       p_value      beta   beta_se  \\\n",
       "0            RPS26      12:56007301:G:A  3.382176e-34  1.443169  0.249831   \n",
       "1            SMDT1     22:42123461:A:AT  4.472720e-20  1.006116  0.252152   \n",
       "2            SMDT1  22:42119191:GAGAT:G  4.763233e-20  1.078521  0.252800   \n",
       "3            SMDT1      22:42092156:C:A  4.933741e-20  1.073046  0.253754   \n",
       "4            SMDT1   22:42094636:CAAA:C  5.097736e-20  1.063314  0.251781   \n",
       "...            ...                  ...           ...       ...       ...   \n",
       "3466240     CEP350      1:179674899:T:G  9.999275e-01  0.050972  0.117085   \n",
       "3466241     CEP350      1:179677732:C:T  9.999939e-01  0.051011  0.117116   \n",
       "3466242     CEP350      1:179676283:G:T  9.999939e-01  0.051011  0.117116   \n",
       "3466243     CEP350      1:179676284:G:A  9.999939e-01  0.051011  0.117116   \n",
       "3466244     CEP350      1:179678199:G:C  9.999998e-01  0.051025  0.117146   \n",
       "\n",
       "         empirical_feature_p_value  feature_chromosome  feature_start  \\\n",
       "0                     2.282969e-31                  12       56041351   \n",
       "1                     6.857645e-19                  22       42079691   \n",
       "2                     6.857645e-19                  22       42079691   \n",
       "3                     6.857645e-19                  22       42079691   \n",
       "4                     6.857645e-19                  22       42079691   \n",
       "...                            ...                 ...            ...   \n",
       "3466240               9.999998e-01                   1      179954773   \n",
       "3466241               9.999998e-01                   1      179954773   \n",
       "3466242               9.999998e-01                   1      179954773   \n",
       "3466243               9.999998e-01                   1      179954773   \n",
       "3466244               9.999998e-01                   1      179954773   \n",
       "\n",
       "         feature_end             ENSG  ... snp_position  assessed_allele  \\\n",
       "0           56044697  ENSG00000197728  ...     56007301                G   \n",
       "1           42084284  ENSG00000183172  ...     42123461                A   \n",
       "2           42084284  ENSG00000183172  ...     42119191            GAGAT   \n",
       "3           42084284  ENSG00000183172  ...     42092156                C   \n",
       "4           42084284  ENSG00000183172  ...     42094636             CAAA   \n",
       "...              ...              ...  ...          ...              ...   \n",
       "3466240    180114875  ENSG00000135837  ...    179674899                T   \n",
       "3466241    180114875  ENSG00000135837  ...    179677732                C   \n",
       "3466242    180114875  ENSG00000135837  ...    179676283                G   \n",
       "3466243    180114875  ENSG00000135837  ...    179676284                G   \n",
       "3466244    180114875  ENSG00000135837  ...    179678199                G   \n",
       "\n",
       "         call_rate       maf     hwe_p                        QTL  \\\n",
       "0                1  0.447368  0.509556      12:56007301:G:A-RPS26   \n",
       "1                1  0.315789  1.000000     22:42123461:A:AT-SMDT1   \n",
       "2                1  0.342105  1.000000  22:42119191:GAGAT:G-SMDT1   \n",
       "3                1  0.342105  1.000000      22:42092156:C:A-SMDT1   \n",
       "4                1  0.342105  1.000000   22:42094636:CAAA:C-SMDT1   \n",
       "...            ...       ...       ...                        ...   \n",
       "3466240          1  0.368421  1.000000     1:179674899:T:G-CEP350   \n",
       "3466241          1  0.368421  1.000000     1:179677732:C:T-CEP350   \n",
       "3466242          1  0.368421  1.000000     1:179676283:G:T-CEP350   \n",
       "3466243          1  0.368421  1.000000     1:179676284:G:A-CEP350   \n",
       "3466244          1  0.368421  1.000000     1:179678199:G:C-CEP350   \n",
       "\n",
       "              z_score    weight  z_score_org     chr_snp_pos  \n",
       "0        1.219312e+01  211365.1    12.408954  chr12_56007301  \n",
       "1        9.176031e+00  211365.1     9.403753  chr22_42123461  \n",
       "2        9.169250e+00  211365.1     9.320564  chr22_42119191  \n",
       "3        9.165457e+00  211365.1     9.320889  chr22_42092156  \n",
       "4        9.161930e+00  211365.1     9.318367  chr22_42094636  \n",
       "...               ...       ...          ...             ...  \n",
       "3466240 -9.090477e-05  211365.1     0.082259  chr1_179674899  \n",
       "3466241 -7.689936e-06  211365.1     0.082429  chr1_179677732  \n",
       "3466242 -7.689936e-06  211365.1     0.082429  chr1_179676283  \n",
       "3466243 -7.689936e-06  211365.1     0.082429  chr1_179676284  \n",
       "3466244  2.307555e-07  211365.1     0.082435  chr1_179678199  \n",
       "\n",
       "[3466245 rows x 26 columns]"
      ]
     },
     "execution_count": 62,
     "metadata": {},
     "output_type": "execute_result"
    }
   ],
   "source": [
    "bqtl"
   ]
  },
  {
   "cell_type": "code",
   "execution_count": 63,
   "metadata": {},
   "outputs": [
    {
     "name": "stdout",
     "output_type": "stream",
     "text": [
      "876 4050 1295 9010\n"
     ]
    }
   ],
   "source": [
    "print(len(sig_sig_bqtl), len(sig_nsig_bqtl), len(nsig_sig_bqtl), len(nsig_nsig_bqtl))"
   ]
  },
  {
   "cell_type": "code",
   "execution_count": 64,
   "metadata": {},
   "outputs": [
    {
     "data": {
      "text/html": [
       "<div>\n",
       "<style scoped>\n",
       "    .dataframe tbody tr th:only-of-type {\n",
       "        vertical-align: middle;\n",
       "    }\n",
       "\n",
       "    .dataframe tbody tr th {\n",
       "        vertical-align: top;\n",
       "    }\n",
       "\n",
       "    .dataframe thead th {\n",
       "        text-align: right;\n",
       "    }\n",
       "</style>\n",
       "<table border=\"1\" class=\"dataframe\">\n",
       "  <thead>\n",
       "    <tr style=\"text-align: right;\">\n",
       "      <th></th>\n",
       "      <th>feature_id</th>\n",
       "      <th>snp_id</th>\n",
       "      <th>p_value</th>\n",
       "      <th>beta</th>\n",
       "      <th>beta_se</th>\n",
       "      <th>empirical_feature_p_value</th>\n",
       "      <th>feature_chromosome</th>\n",
       "      <th>feature_start</th>\n",
       "      <th>feature_end</th>\n",
       "      <th>ENSG</th>\n",
       "      <th>...</th>\n",
       "      <th>snp_position</th>\n",
       "      <th>assessed_allele</th>\n",
       "      <th>call_rate</th>\n",
       "      <th>maf</th>\n",
       "      <th>hwe_p</th>\n",
       "      <th>QTL</th>\n",
       "      <th>z_score</th>\n",
       "      <th>weight</th>\n",
       "      <th>z_score_org</th>\n",
       "      <th>chr_snp_pos</th>\n",
       "    </tr>\n",
       "  </thead>\n",
       "  <tbody>\n",
       "    <tr>\n",
       "      <th>0</th>\n",
       "      <td>RPS26</td>\n",
       "      <td>12:56007301:G:A</td>\n",
       "      <td>3.382176e-34</td>\n",
       "      <td>1.443169</td>\n",
       "      <td>0.249831</td>\n",
       "      <td>2.282969e-31</td>\n",
       "      <td>12</td>\n",
       "      <td>56041351</td>\n",
       "      <td>56044697</td>\n",
       "      <td>ENSG00000197728</td>\n",
       "      <td>...</td>\n",
       "      <td>56007301</td>\n",
       "      <td>G</td>\n",
       "      <td>1</td>\n",
       "      <td>0.447368</td>\n",
       "      <td>0.509556</td>\n",
       "      <td>12:56007301:G:A-RPS26</td>\n",
       "      <td>12.193121</td>\n",
       "      <td>211365.1</td>\n",
       "      <td>12.408954</td>\n",
       "      <td>chr12_56007301</td>\n",
       "    </tr>\n",
       "    <tr>\n",
       "      <th>212</th>\n",
       "      <td>HLA-DQB1</td>\n",
       "      <td>6:32660021:C:T</td>\n",
       "      <td>6.700123e-18</td>\n",
       "      <td>-1.509398</td>\n",
       "      <td>0.333809</td>\n",
       "      <td>1.651824e-15</td>\n",
       "      <td>6</td>\n",
       "      <td>32659467</td>\n",
       "      <td>32668383</td>\n",
       "      <td>ENSG00000179344</td>\n",
       "      <td>...</td>\n",
       "      <td>32660021</td>\n",
       "      <td>C</td>\n",
       "      <td>1</td>\n",
       "      <td>0.131579</td>\n",
       "      <td>0.492859</td>\n",
       "      <td>6:32660021:C:T-HLA-DQB1</td>\n",
       "      <td>-8.619919</td>\n",
       "      <td>211365.1</td>\n",
       "      <td>-8.846924</td>\n",
       "      <td>chr6_32660021</td>\n",
       "    </tr>\n",
       "    <tr>\n",
       "      <th>214</th>\n",
       "      <td>HLA-DQB1</td>\n",
       "      <td>6:32659975:T:C</td>\n",
       "      <td>6.712857e-18</td>\n",
       "      <td>-1.507750</td>\n",
       "      <td>0.333473</td>\n",
       "      <td>1.651824e-15</td>\n",
       "      <td>6</td>\n",
       "      <td>32659467</td>\n",
       "      <td>32668383</td>\n",
       "      <td>ENSG00000179344</td>\n",
       "      <td>...</td>\n",
       "      <td>32659975</td>\n",
       "      <td>T</td>\n",
       "      <td>1</td>\n",
       "      <td>0.131579</td>\n",
       "      <td>0.492859</td>\n",
       "      <td>6:32659975:T:C-HLA-DQB1</td>\n",
       "      <td>-8.619702</td>\n",
       "      <td>211365.1</td>\n",
       "      <td>-8.846753</td>\n",
       "      <td>chr6_32659975</td>\n",
       "    </tr>\n",
       "    <tr>\n",
       "      <th>215</th>\n",
       "      <td>HLA-DQB1</td>\n",
       "      <td>6:32659986:A:T</td>\n",
       "      <td>6.712857e-18</td>\n",
       "      <td>-1.507750</td>\n",
       "      <td>0.333473</td>\n",
       "      <td>1.651824e-15</td>\n",
       "      <td>6</td>\n",
       "      <td>32659467</td>\n",
       "      <td>32668383</td>\n",
       "      <td>ENSG00000179344</td>\n",
       "      <td>...</td>\n",
       "      <td>32659986</td>\n",
       "      <td>A</td>\n",
       "      <td>1</td>\n",
       "      <td>0.131579</td>\n",
       "      <td>0.492859</td>\n",
       "      <td>6:32659986:A:T-HLA-DQB1</td>\n",
       "      <td>-8.619702</td>\n",
       "      <td>211365.1</td>\n",
       "      <td>-8.846753</td>\n",
       "      <td>chr6_32659986</td>\n",
       "    </tr>\n",
       "    <tr>\n",
       "      <th>216</th>\n",
       "      <td>HLA-DQB1</td>\n",
       "      <td>6:32660030:A:T</td>\n",
       "      <td>6.718173e-18</td>\n",
       "      <td>-1.509398</td>\n",
       "      <td>0.333809</td>\n",
       "      <td>1.651824e-15</td>\n",
       "      <td>6</td>\n",
       "      <td>32659467</td>\n",
       "      <td>32668383</td>\n",
       "      <td>ENSG00000179344</td>\n",
       "      <td>...</td>\n",
       "      <td>32660030</td>\n",
       "      <td>A</td>\n",
       "      <td>1</td>\n",
       "      <td>0.131579</td>\n",
       "      <td>0.492859</td>\n",
       "      <td>6:32660030:A:T-HLA-DQB1</td>\n",
       "      <td>-8.619611</td>\n",
       "      <td>211365.1</td>\n",
       "      <td>-8.846629</td>\n",
       "      <td>chr6_32660030</td>\n",
       "    </tr>\n",
       "    <tr>\n",
       "      <th>...</th>\n",
       "      <td>...</td>\n",
       "      <td>...</td>\n",
       "      <td>...</td>\n",
       "      <td>...</td>\n",
       "      <td>...</td>\n",
       "      <td>...</td>\n",
       "      <td>...</td>\n",
       "      <td>...</td>\n",
       "      <td>...</td>\n",
       "      <td>...</td>\n",
       "      <td>...</td>\n",
       "      <td>...</td>\n",
       "      <td>...</td>\n",
       "      <td>...</td>\n",
       "      <td>...</td>\n",
       "      <td>...</td>\n",
       "      <td>...</td>\n",
       "      <td>...</td>\n",
       "      <td>...</td>\n",
       "      <td>...</td>\n",
       "      <td>...</td>\n",
       "    </tr>\n",
       "    <tr>\n",
       "      <th>19223</th>\n",
       "      <td>NAGK</td>\n",
       "      <td>2:71071208:C:T</td>\n",
       "      <td>6.157547e-05</td>\n",
       "      <td>0.658429</td>\n",
       "      <td>0.295532</td>\n",
       "      <td>4.908836e-03</td>\n",
       "      <td>2</td>\n",
       "      <td>71064344</td>\n",
       "      <td>71079808</td>\n",
       "      <td>ENSG00000124357</td>\n",
       "      <td>...</td>\n",
       "      <td>71071208</td>\n",
       "      <td>C</td>\n",
       "      <td>1</td>\n",
       "      <td>0.131579</td>\n",
       "      <td>1.000000</td>\n",
       "      <td>2:71071208:C:T-NAGK</td>\n",
       "      <td>4.006690</td>\n",
       "      <td>211365.1</td>\n",
       "      <td>3.899127</td>\n",
       "      <td>chr2_71071208</td>\n",
       "    </tr>\n",
       "    <tr>\n",
       "      <th>19230</th>\n",
       "      <td>NAGK</td>\n",
       "      <td>2:71066009:T:C</td>\n",
       "      <td>6.255455e-05</td>\n",
       "      <td>0.682553</td>\n",
       "      <td>0.300544</td>\n",
       "      <td>4.908836e-03</td>\n",
       "      <td>2</td>\n",
       "      <td>71064344</td>\n",
       "      <td>71079808</td>\n",
       "      <td>ENSG00000124357</td>\n",
       "      <td>...</td>\n",
       "      <td>71066009</td>\n",
       "      <td>T</td>\n",
       "      <td>1</td>\n",
       "      <td>0.131579</td>\n",
       "      <td>1.000000</td>\n",
       "      <td>2:71066009:T:C-NAGK</td>\n",
       "      <td>4.002961</td>\n",
       "      <td>211365.1</td>\n",
       "      <td>3.886025</td>\n",
       "      <td>chr2_71066009</td>\n",
       "    </tr>\n",
       "    <tr>\n",
       "      <th>19428</th>\n",
       "      <td>ATP5MC2</td>\n",
       "      <td>12:53669717:G:A</td>\n",
       "      <td>9.575113e-05</td>\n",
       "      <td>-0.431927</td>\n",
       "      <td>0.232683</td>\n",
       "      <td>5.085819e-03</td>\n",
       "      <td>12</td>\n",
       "      <td>53632726</td>\n",
       "      <td>53677408</td>\n",
       "      <td>ENSG00000135390</td>\n",
       "      <td>...</td>\n",
       "      <td>53669717</td>\n",
       "      <td>G</td>\n",
       "      <td>1</td>\n",
       "      <td>0.342105</td>\n",
       "      <td>1.000000</td>\n",
       "      <td>12:53669717:G:A-ATP5MC2</td>\n",
       "      <td>-3.901114</td>\n",
       "      <td>211365.1</td>\n",
       "      <td>-3.948934</td>\n",
       "      <td>chr12_53669717</td>\n",
       "    </tr>\n",
       "    <tr>\n",
       "      <th>19435</th>\n",
       "      <td>ATP5MC2</td>\n",
       "      <td>12:53663283:A:AAAC</td>\n",
       "      <td>9.793478e-05</td>\n",
       "      <td>-0.431618</td>\n",
       "      <td>0.232621</td>\n",
       "      <td>5.085819e-03</td>\n",
       "      <td>12</td>\n",
       "      <td>53632726</td>\n",
       "      <td>53677408</td>\n",
       "      <td>ENSG00000135390</td>\n",
       "      <td>...</td>\n",
       "      <td>53663283</td>\n",
       "      <td>A</td>\n",
       "      <td>1</td>\n",
       "      <td>0.342105</td>\n",
       "      <td>1.000000</td>\n",
       "      <td>12:53663283:A:AAAC-ATP5MC2</td>\n",
       "      <td>-3.895652</td>\n",
       "      <td>211365.1</td>\n",
       "      <td>-3.942676</td>\n",
       "      <td>chr12_53663283</td>\n",
       "    </tr>\n",
       "    <tr>\n",
       "      <th>19815</th>\n",
       "      <td>HLA-C</td>\n",
       "      <td>6:31512891:G:A</td>\n",
       "      <td>1.812779e-03</td>\n",
       "      <td>-0.752055</td>\n",
       "      <td>0.316420</td>\n",
       "      <td>5.495098e-03</td>\n",
       "      <td>6</td>\n",
       "      <td>31268749</td>\n",
       "      <td>31272130</td>\n",
       "      <td>ENSG00000204525</td>\n",
       "      <td>...</td>\n",
       "      <td>31512891</td>\n",
       "      <td>G</td>\n",
       "      <td>1</td>\n",
       "      <td>0.184211</td>\n",
       "      <td>1.000000</td>\n",
       "      <td>6:31512891:G:A-HLA-C</td>\n",
       "      <td>-3.119305</td>\n",
       "      <td>211365.1</td>\n",
       "      <td>-2.985287</td>\n",
       "      <td>chr6_31512891</td>\n",
       "    </tr>\n",
       "  </tbody>\n",
       "</table>\n",
       "<p>1245 rows × 26 columns</p>\n",
       "</div>"
      ],
      "text/plain": [
       "      feature_id              snp_id       p_value      beta   beta_se  \\\n",
       "0          RPS26     12:56007301:G:A  3.382176e-34  1.443169  0.249831   \n",
       "212     HLA-DQB1      6:32660021:C:T  6.700123e-18 -1.509398  0.333809   \n",
       "214     HLA-DQB1      6:32659975:T:C  6.712857e-18 -1.507750  0.333473   \n",
       "215     HLA-DQB1      6:32659986:A:T  6.712857e-18 -1.507750  0.333473   \n",
       "216     HLA-DQB1      6:32660030:A:T  6.718173e-18 -1.509398  0.333809   \n",
       "...          ...                 ...           ...       ...       ...   \n",
       "19223       NAGK      2:71071208:C:T  6.157547e-05  0.658429  0.295532   \n",
       "19230       NAGK      2:71066009:T:C  6.255455e-05  0.682553  0.300544   \n",
       "19428    ATP5MC2     12:53669717:G:A  9.575113e-05 -0.431927  0.232683   \n",
       "19435    ATP5MC2  12:53663283:A:AAAC  9.793478e-05 -0.431618  0.232621   \n",
       "19815      HLA-C      6:31512891:G:A  1.812779e-03 -0.752055  0.316420   \n",
       "\n",
       "       empirical_feature_p_value  feature_chromosome  feature_start  \\\n",
       "0                   2.282969e-31                  12       56041351   \n",
       "212                 1.651824e-15                   6       32659467   \n",
       "214                 1.651824e-15                   6       32659467   \n",
       "215                 1.651824e-15                   6       32659467   \n",
       "216                 1.651824e-15                   6       32659467   \n",
       "...                          ...                 ...            ...   \n",
       "19223               4.908836e-03                   2       71064344   \n",
       "19230               4.908836e-03                   2       71064344   \n",
       "19428               5.085819e-03                  12       53632726   \n",
       "19435               5.085819e-03                  12       53632726   \n",
       "19815               5.495098e-03                   6       31268749   \n",
       "\n",
       "       feature_end             ENSG  ... snp_position  assessed_allele  \\\n",
       "0         56044697  ENSG00000197728  ...     56007301                G   \n",
       "212       32668383  ENSG00000179344  ...     32660021                C   \n",
       "214       32668383  ENSG00000179344  ...     32659975                T   \n",
       "215       32668383  ENSG00000179344  ...     32659986                A   \n",
       "216       32668383  ENSG00000179344  ...     32660030                A   \n",
       "...            ...              ...  ...          ...              ...   \n",
       "19223     71079808  ENSG00000124357  ...     71071208                C   \n",
       "19230     71079808  ENSG00000124357  ...     71066009                T   \n",
       "19428     53677408  ENSG00000135390  ...     53669717                G   \n",
       "19435     53677408  ENSG00000135390  ...     53663283                A   \n",
       "19815     31272130  ENSG00000204525  ...     31512891                G   \n",
       "\n",
       "       call_rate       maf     hwe_p                         QTL    z_score  \\\n",
       "0              1  0.447368  0.509556       12:56007301:G:A-RPS26  12.193121   \n",
       "212            1  0.131579  0.492859     6:32660021:C:T-HLA-DQB1  -8.619919   \n",
       "214            1  0.131579  0.492859     6:32659975:T:C-HLA-DQB1  -8.619702   \n",
       "215            1  0.131579  0.492859     6:32659986:A:T-HLA-DQB1  -8.619702   \n",
       "216            1  0.131579  0.492859     6:32660030:A:T-HLA-DQB1  -8.619611   \n",
       "...          ...       ...       ...                         ...        ...   \n",
       "19223          1  0.131579  1.000000         2:71071208:C:T-NAGK   4.006690   \n",
       "19230          1  0.131579  1.000000         2:71066009:T:C-NAGK   4.002961   \n",
       "19428          1  0.342105  1.000000     12:53669717:G:A-ATP5MC2  -3.901114   \n",
       "19435          1  0.342105  1.000000  12:53663283:A:AAAC-ATP5MC2  -3.895652   \n",
       "19815          1  0.184211  1.000000        6:31512891:G:A-HLA-C  -3.119305   \n",
       "\n",
       "         weight  z_score_org     chr_snp_pos  \n",
       "0      211365.1    12.408954  chr12_56007301  \n",
       "212    211365.1    -8.846924   chr6_32660021  \n",
       "214    211365.1    -8.846753   chr6_32659975  \n",
       "215    211365.1    -8.846753   chr6_32659986  \n",
       "216    211365.1    -8.846629   chr6_32660030  \n",
       "...         ...          ...             ...  \n",
       "19223  211365.1     3.899127   chr2_71071208  \n",
       "19230  211365.1     3.886025   chr2_71066009  \n",
       "19428  211365.1    -3.948934  chr12_53669717  \n",
       "19435  211365.1    -3.942676  chr12_53663283  \n",
       "19815  211365.1    -2.985287   chr6_31512891  \n",
       "\n",
       "[1245 rows x 26 columns]"
      ]
     },
     "execution_count": 64,
     "metadata": {},
     "output_type": "execute_result"
    }
   ],
   "source": [
    "overlap_sig_sig_bqtl =sig_bqtl[sig_bqtl.chr_snp_pos.isin(sig_sig_bqtl)]\n",
    "overlap_sig_sig_bqtl"
   ]
  },
  {
   "cell_type": "code",
   "execution_count": 65,
   "metadata": {},
   "outputs": [],
   "source": [
    "overlap_sig_nsig_bqtl = sig_bqtl[sig_bqtl.chr_snp_pos.isin(sig_nsig_bqtl)]\n",
    "overlap_nsig_sig_bqtl = sig_bqtl[sig_bqtl.chr_snp_pos.isin(nsig_sig_bqtl)]"
   ]
  },
  {
   "cell_type": "code",
   "execution_count": 66,
   "metadata": {},
   "outputs": [],
   "source": [
    "neg_pct_b = []\n",
    "pos_pct_b = []\n",
    "def direction_of_effect_percentage(df, neg_pct, pos_pct):\n",
    "    negative_values = df[df['beta']<0]['beta'].count()\n",
    "    total_values = df.shape[0]\n",
    "    pct_neg = round((negative_values/total_values)*100,2)\n",
    "    neg_pct.append(pct_neg)\n",
    "    pct_pos = round((100 - pct_neg),2)\n",
    "    pos_pct.append(pct_pos)\n",
    "    return pct_neg, pct_pos"
   ]
  },
  {
   "cell_type": "code",
   "execution_count": 67,
   "metadata": {},
   "outputs": [],
   "source": [
    "bqtl = bqtl[bqtl['empirical_feature_p_value'] > 0.0056469198697246]"
   ]
  },
  {
   "cell_type": "code",
   "execution_count": 68,
   "metadata": {},
   "outputs": [],
   "source": [
    "cd4qtl = cd4qtl[cd4qtl['empirical_feature_p_value'] > 0.0258057636183491]\n"
   ]
  },
  {
   "cell_type": "code",
   "execution_count": 69,
   "metadata": {},
   "outputs": [],
   "source": [
    "overlap_nsig_sig_bqtl = bqtl[bqtl.chr_snp_pos.isin(nsig_sig_bqtl)]\n",
    "overlap_nsig_nsig_bqtl = bqtl[bqtl.chr_snp_pos.isin(nsig_nsig_bqtl)]"
   ]
  },
  {
   "cell_type": "code",
   "execution_count": 70,
   "metadata": {},
   "outputs": [
    {
     "data": {
      "text/plain": [
       "(49.09, 50.91)"
      ]
     },
     "execution_count": 70,
     "metadata": {},
     "output_type": "execute_result"
    }
   ],
   "source": [
    "direction_of_effect_percentage(overlap_nsig_sig_bqtl, neg_pct_b, pos_pct_b)"
   ]
  },
  {
   "cell_type": "code",
   "execution_count": 71,
   "metadata": {},
   "outputs": [
    {
     "data": {
      "text/plain": [
       "(50.54, 49.46)"
      ]
     },
     "execution_count": 71,
     "metadata": {},
     "output_type": "execute_result"
    }
   ],
   "source": [
    "direction_of_effect_percentage(overlap_nsig_nsig_bqtl, neg_pct_b, pos_pct_b)"
   ]
  },
  {
   "cell_type": "code",
   "execution_count": 72,
   "metadata": {},
   "outputs": [
    {
     "data": {
      "text/plain": [
       "(96.47, 3.53)"
      ]
     },
     "execution_count": 72,
     "metadata": {},
     "output_type": "execute_result"
    }
   ],
   "source": [
    "direction_of_effect_percentage(overlap_sig_sig_bqtl, neg_pct_b, pos_pct_b)"
   ]
  },
  {
   "cell_type": "code",
   "execution_count": 73,
   "metadata": {},
   "outputs": [
    {
     "data": {
      "text/plain": [
       "(93.58, 6.42)"
      ]
     },
     "execution_count": 73,
     "metadata": {},
     "output_type": "execute_result"
    }
   ],
   "source": [
    "direction_of_effect_percentage(overlap_sig_nsig_bqtl, neg_pct_b, pos_pct_b)"
   ]
  },
  {
   "cell_type": "code",
   "execution_count": 74,
   "metadata": {},
   "outputs": [],
   "source": [
    "overlap_sig_sig_cd4qtl = sig_cd4qtl[sig_cd4qtl.snp_id.isin(sig_sig_cd4qtl)]\n",
    "overlap_sig_nsig_cd4qtl = sig_cd4qtl[sig_cd4qtl.snp_id.isin(sig_nsig_cd4qtl)]\n",
    "overlap_nsig_sig_cd4qtl = cd4qtl[cd4qtl.chr_snp_pos.isin(nsig_sig_cd4qtl)]\n",
    "overlap_nsig_nsig_cd4qtl = cd4qtl[cd4qtl.chr_snp_pos.isin(nsig_nsig_cd4qtl)]"
   ]
  },
  {
   "cell_type": "code",
   "execution_count": 75,
   "metadata": {},
   "outputs": [
    {
     "data": {
      "text/plain": [
       "(66.49, 33.51)"
      ]
     },
     "execution_count": 75,
     "metadata": {},
     "output_type": "execute_result"
    }
   ],
   "source": [
    "neg_pct_cd4 = []\n",
    "pos_pct_cd4= []\n",
    "direction_of_effect_percentage(overlap_nsig_sig_cd4qtl, neg_pct_cd4, pos_pct_cd4)\n",
    "direction_of_effect_percentage(overlap_nsig_nsig_cd4qtl, neg_pct_cd4, pos_pct_cd4)\n",
    "direction_of_effect_percentage(overlap_sig_sig_cd4qtl, neg_pct_cd4, pos_pct_cd4)\n",
    "direction_of_effect_percentage(overlap_sig_nsig_cd4qtl, neg_pct_cd4, pos_pct_cd4)"
   ]
  },
  {
   "cell_type": "code",
   "execution_count": 76,
   "metadata": {},
   "outputs": [],
   "source": [
    "lcl.insert(1, 'neg_direction_b(%)', neg_pct_b)\n",
    "#lcl.insert(2,'pos_direction_b(%)', pos_pct_b)"
   ]
  },
  {
   "cell_type": "code",
   "execution_count": 77,
   "metadata": {},
   "outputs": [],
   "source": [
    "lcl.insert(3, 'neg_direction_cd4(%)', neg_pct_cd4)\n",
    "#lcl.insert(5, 'pos_direction_cd4(%)', pos_pct_cd4)\n"
   ]
  },
  {
   "cell_type": "code",
   "execution_count": 164,
   "metadata": {},
   "outputs": [
    {
     "data": {
      "text/html": [
       "<div>\n",
       "<style scoped>\n",
       "    .dataframe tbody tr th:only-of-type {\n",
       "        vertical-align: middle;\n",
       "    }\n",
       "\n",
       "    .dataframe tbody tr th {\n",
       "        vertical-align: top;\n",
       "    }\n",
       "\n",
       "    .dataframe thead th {\n",
       "        text-align: right;\n",
       "    }\n",
       "</style>\n",
       "<table border=\"1\" class=\"dataframe\">\n",
       "  <thead>\n",
       "    <tr style=\"text-align: right;\">\n",
       "      <th></th>\n",
       "      <th>b_lcl(%)</th>\n",
       "      <th>neg_direction_b(%)</th>\n",
       "      <th>cd4_lcl(%)</th>\n",
       "      <th>neg_direction_cd4(%)</th>\n",
       "    </tr>\n",
       "  </thead>\n",
       "  <tbody>\n",
       "    <tr>\n",
       "      <th>nsig_sig</th>\n",
       "      <td>27.71</td>\n",
       "      <td>49.09</td>\n",
       "      <td>28.83</td>\n",
       "      <td>49.59</td>\n",
       "    </tr>\n",
       "    <tr>\n",
       "      <th>nsig_nsig</th>\n",
       "      <td>26.30</td>\n",
       "      <td>50.54</td>\n",
       "      <td>24.98</td>\n",
       "      <td>48.87</td>\n",
       "    </tr>\n",
       "    <tr>\n",
       "      <th>sig_sig</th>\n",
       "      <td>58.82</td>\n",
       "      <td>96.47</td>\n",
       "      <td>47.06</td>\n",
       "      <td>68.87</td>\n",
       "    </tr>\n",
       "    <tr>\n",
       "      <th>sig_nsg</th>\n",
       "      <td>50.54</td>\n",
       "      <td>93.58</td>\n",
       "      <td>38.77</td>\n",
       "      <td>66.49</td>\n",
       "    </tr>\n",
       "  </tbody>\n",
       "</table>\n",
       "</div>"
      ],
      "text/plain": [
       "           b_lcl(%)  neg_direction_b(%)  cd4_lcl(%)  neg_direction_cd4(%)\n",
       "nsig_sig      27.71               49.09       28.83                 49.59\n",
       "nsig_nsig     26.30               50.54       24.98                 48.87\n",
       "sig_sig       58.82               96.47       47.06                 68.87\n",
       "sig_nsg       50.54               93.58       38.77                 66.49"
      ]
     },
     "execution_count": 164,
     "metadata": {},
     "output_type": "execute_result"
    }
   ],
   "source": [
    "lcl"
   ]
  },
  {
   "cell_type": "code",
   "execution_count": null,
   "metadata": {},
   "outputs": [],
   "source": [
    "sig_bqtl.sort_values(by='maf')"
   ]
  },
  {
   "cell_type": "code",
   "execution_count": null,
   "metadata": {},
   "outputs": [],
   "source": [
    "bqtl.sort_values(by='maf')"
   ]
  },
  {
   "cell_type": "code",
   "execution_count": 86,
   "metadata": {},
   "outputs": [
    {
     "data": {
      "text/plain": [
       "177"
      ]
     },
     "execution_count": 86,
     "metadata": {},
     "output_type": "execute_result"
    }
   ],
   "source": [
    "len(sig_bqtl[sig_bqtl.maf <0.1])"
   ]
  },
  {
   "cell_type": "code",
   "execution_count": 87,
   "metadata": {},
   "outputs": [
    {
     "data": {
      "text/plain": [
       "108"
      ]
     },
     "execution_count": 87,
     "metadata": {},
     "output_type": "execute_result"
    }
   ],
   "source": [
    "len(sig_bqtl[(sig_bqtl['beta']<0) & (sig_bqtl['maf']<0.1)])"
   ]
  },
  {
   "cell_type": "code",
   "execution_count": 88,
   "metadata": {},
   "outputs": [
    {
     "data": {
      "text/plain": [
       "69"
      ]
     },
     "execution_count": 88,
     "metadata": {},
     "output_type": "execute_result"
    }
   ],
   "source": [
    "len(sig_bqtl[(sig_bqtl['beta']>0) & (sig_bqtl['maf']<0.1)])"
   ]
  },
  {
   "cell_type": "code",
   "execution_count": 98,
   "metadata": {},
   "outputs": [
    {
     "name": "stdout",
     "output_type": "stream",
     "text": [
      "43 31\n"
     ]
    }
   ],
   "source": [
    "print(len(overlap_sig_sig_bqtl[overlap_sig_sig_bqtl.maf <0.2]),\n",
    "      len(overlap_sig_sig_bqtl[(overlap_sig_sig_bqtl['beta']<0) & (overlap_sig_sig_bqtl['maf']< 0.2)]))\n"
   ]
  },
  {
   "cell_type": "code",
   "execution_count": 100,
   "metadata": {},
   "outputs": [
    {
     "name": "stdout",
     "output_type": "stream",
     "text": [
      "43 12\n"
     ]
    }
   ],
   "source": [
    "print(len(overlap_sig_sig_bqtl[overlap_sig_sig_bqtl.maf <0.2]),\n",
    "      len(overlap_sig_sig_bqtl[(overlap_sig_sig_bqtl['beta']>0) & (overlap_sig_sig_bqtl['maf']< 0.2)]))\n"
   ]
  }
 ],
 "metadata": {
  "kernelspec": {
   "display_name": "Python 3",
   "language": "python",
   "name": "python3"
  },
  "language_info": {
   "codemirror_mode": {
    "name": "ipython",
    "version": 3
   },
   "file_extension": ".py",
   "mimetype": "text/x-python",
   "name": "python",
   "nbconvert_exporter": "python",
   "pygments_lexer": "ipython3",
   "version": "3.10.7"
  }
 },
 "nbformat": 4,
 "nbformat_minor": 2
}
